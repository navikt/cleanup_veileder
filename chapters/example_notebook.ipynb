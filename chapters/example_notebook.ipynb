{
 "cells": [
  {
   "cell_type": "markdown",
   "metadata": {},
   "source": [
    "##  Example notebook {#sec-NER}\n",
    "\n",
    "This is an example notebook meant to illustrate how jupyter notebooks can be integrated with the rest of the document.\n"
   ]
  },
  {
   "cell_type": "markdown",
   "metadata": {},
   "source": [
    "### Function\n",
    "Define a simple function which takes a text string and returns a dataframe of NER-counts:"
   ]
  },
  {
   "cell_type": "code",
   "execution_count": 6,
   "metadata": {
    "tags": [
     "simple-NER-count"
    ]
   },
   "outputs": [],
   "source": [
    "#| label: simple-NER-count\n",
    "#| code-fold: true\n",
    "\n",
    "#!pip install spacy\n",
    "#!python -m spacy download nb_core_news_sm\n",
    "#!pip install pandas\n",
    "import spacy\n",
    "from spacy import displacy\n",
    "import pandas as pd\n",
    "\n",
    "def extract_ner(string):\n",
    "    # Load the pre-trained NER model\n",
    "    nlp = spacy.load(\"nb_core_news_sm\")\n",
    "    \n",
    "    # Process the input string\n",
    "    doc = nlp(string)\n",
    "    \n",
    "    # Extract the NER objects\n",
    "    ner_objects = []\n",
    "    for ent in doc.ents:\n",
    "        ner_objects.append((ent.text, ent.label_))\n",
    "    \n",
    "    # Create a dataframe from the NER objects\n",
    "    df = pd.DataFrame(ner_objects, columns=[\"Entity\", \"Label\"])\n",
    "\n",
    "    ner_counts = df['Label'].value_counts()\n",
    "    #print(ner_counts)\n",
    "    \n",
    "    displacy.render(doc, style=\"ent\", jupyter=True)\n",
    "    \n",
    "    return df"
   ]
  },
  {
   "cell_type": "code",
   "execution_count": 2,
   "metadata": {
    "tags": [
     "example-string"
    ]
   },
   "outputs": [
    {
     "name": "stdout",
     "output_type": "stream",
     "text": [
      "Dette er en tekst om Ola Nordmann,som bor i Stavanger og jobber i Oslo. \n",
      "Han liker å reise til Paris, men trives best på hytta i Hemsedal. \n",
      "Han sliter litt med migrene fra tid til annen,og har tidligere hatt lengre perioder med depresjon. \n",
      "Da er det godt å finne roen på fjellet. Han kan nås på 12 34 56 78 eller på ola.nordann@etellerannet.no\n"
     ]
    }
   ],
   "source": [
    "#| label: example-string\n",
    "\n",
    "# create a basic text string\n",
    "s = \"\"\"Dette er en tekst om Ola Nordmann,som bor i Stavanger og jobber i Oslo. \n",
    "Han liker å reise til Paris, men trives best på hytta i Hemsedal. \n",
    "Han sliter litt med migrene fra tid til annen,og har tidligere hatt lengre perioder med depresjon. \n",
    "Da er det godt å finne roen på fjellet. Han kan nås på 12 34 56 78 eller på ola.nordann@etellerannet.no\"\"\"\n",
    "print(s)"
   ]
  },
  {
   "cell_type": "code",
   "execution_count": 7,
   "metadata": {
    "tags": [
     "NER-example"
    ]
   },
   "outputs": [
    {
     "data": {
      "text/html": [
       "<span class=\"tex2jax_ignore\"><div class=\"entities\" style=\"line-height: 2.5; direction: ltr\">Dette er en tekst om \n",
       "<mark class=\"entity\" style=\"background: #ddd; padding: 0.45em 0.6em; margin: 0 0.25em; line-height: 1; border-radius: 0.35em;\">\n",
       "    Ola Nordmann\n",
       "    <span style=\"font-size: 0.8em; font-weight: bold; line-height: 1; border-radius: 0.35em; vertical-align: middle; margin-left: 0.5rem\">PER</span>\n",
       "</mark>\n",
       ",som bor i \n",
       "<mark class=\"entity\" style=\"background: #ddd; padding: 0.45em 0.6em; margin: 0 0.25em; line-height: 1; border-radius: 0.35em;\">\n",
       "    Stavanger\n",
       "    <span style=\"font-size: 0.8em; font-weight: bold; line-height: 1; border-radius: 0.35em; vertical-align: middle; margin-left: 0.5rem\">GPE_LOC</span>\n",
       "</mark>\n",
       " og jobber i \n",
       "<mark class=\"entity\" style=\"background: #ddd; padding: 0.45em 0.6em; margin: 0 0.25em; line-height: 1; border-radius: 0.35em;\">\n",
       "    Oslo\n",
       "    <span style=\"font-size: 0.8em; font-weight: bold; line-height: 1; border-radius: 0.35em; vertical-align: middle; margin-left: 0.5rem\">GPE_LOC</span>\n",
       "</mark>\n",
       ". <br>Han liker å reise til \n",
       "<mark class=\"entity\" style=\"background: #ddd; padding: 0.45em 0.6em; margin: 0 0.25em; line-height: 1; border-radius: 0.35em;\">\n",
       "    Paris\n",
       "    <span style=\"font-size: 0.8em; font-weight: bold; line-height: 1; border-radius: 0.35em; vertical-align: middle; margin-left: 0.5rem\">GPE_LOC</span>\n",
       "</mark>\n",
       ", men trives best på hytta i \n",
       "<mark class=\"entity\" style=\"background: #ddd; padding: 0.45em 0.6em; margin: 0 0.25em; line-height: 1; border-radius: 0.35em;\">\n",
       "    Hemsedal\n",
       "    <span style=\"font-size: 0.8em; font-weight: bold; line-height: 1; border-radius: 0.35em; vertical-align: middle; margin-left: 0.5rem\">GPE_LOC</span>\n",
       "</mark>\n",
       ". <br>Han sliter litt med migrene fra tid til annen,og har tidligere hatt lengre perioder med depresjon. <br>Da er det godt å finne roen på fjellet. Han kan nås på 12 34 56 78 eller på \n",
       "<mark class=\"entity\" style=\"background: #ddd; padding: 0.45em 0.6em; margin: 0 0.25em; line-height: 1; border-radius: 0.35em;\">\n",
       "    ola.nordann@etellerannet.no\n",
       "    <span style=\"font-size: 0.8em; font-weight: bold; line-height: 1; border-radius: 0.35em; vertical-align: middle; margin-left: 0.5rem\">PROD</span>\n",
       "</mark>\n",
       "</div></span>"
      ],
      "text/plain": [
       "<IPython.core.display.HTML object>"
      ]
     },
     "metadata": {},
     "output_type": "display_data"
    },
    {
     "name": "stdout",
     "output_type": "stream",
     "text": [
      "                        Entity    Label\n",
      "0                 Ola Nordmann      PER\n",
      "1                    Stavanger  GPE_LOC\n",
      "2                         Oslo  GPE_LOC\n",
      "3                        Paris  GPE_LOC\n",
      "4                     Hemsedal  GPE_LOC\n",
      "5  ola.nordann@etellerannet.no     PROD\n"
     ]
    }
   ],
   "source": [
    "#| label: NER-example\n",
    "# extract the NER from the string\n",
    "df = extract_ner(s)\n",
    "print(df)  "
   ]
  }
 ],
 "metadata": {
  "kernelspec": {
   "display_name": "env",
   "language": "python",
   "name": "python3"
  },
  "language_info": {
   "codemirror_mode": {
    "name": "ipython",
    "version": 3
   },
   "file_extension": ".py",
   "mimetype": "text/x-python",
   "name": "python",
   "nbconvert_exporter": "python",
   "pygments_lexer": "ipython3",
   "version": "3.9.12"
  }
 },
 "nbformat": 4,
 "nbformat_minor": 2
}
